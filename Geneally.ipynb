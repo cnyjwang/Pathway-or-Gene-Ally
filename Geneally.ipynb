{
 "cells": [
  {
   "cell_type": "markdown",
   "id": "f0211e1f-c8fe-4803-a98e-5c0936d4e959",
   "metadata": {},
   "source": [
    "\n",
    "\n",
    "<!DOCTYPE html>\n",
    "<html>\n",
    "<head>\n",
    "<title>Page Title</title>\n",
    "</head>\n",
    "<body>\n",
    "\n",
    "<h1> Gene ally expression pattern in HepaRG cells </h1>\n",
    "<p>\n",
    "   Human liver  HepaRG  cells were treated with oaked and unoaked wine concentrates (OWC and UWC), a pure oak tannin powder (OTP), and two phytochemicals ellagic acid and Urolithin B (actually the second is a biotransformation of ellagic acid):  \n",
    "      </p>\n",
    "<ol>\n",
    "  <li>The RNA from same treatment were mixed at equal amount and used for analaysis.</li>\n",
    "    \n",
    "  <li>The strand-switching protocol was used to prepare full-length cDNAs from total RNA.</li>\n",
    "    \n",
    "   \n",
    " <li>The cDNAs was amplified by PCR and added barcodes during the PCR step</li>\n",
    " <li>The PCR products are pooled and attached sequencing adapters.</li>\n",
    " <li>The cDNA library were loaded into the flow cell mounted on Nanopore MinIon MK1c sequencer and the sequencing experiment run for 72hr.</li>\n",
    " <li>RNA-seq data are analyzed in EPI2ME Labs </li>\n",
    "    <ul>\n",
    "         <li>minimap2 is used to align sequences reads against Homo sapiens (human) genome assembly GRCh38</li>\n",
    "    <li> salmon is used to define the expressed genes and quantify aligned reads. </li>\n",
    "     <li>Trimmed mean of M-values normalization method (TMM) is used to normalize the RNA expression ratio.</li>\n",
    "    </ul>\n",
    " <li>The expressions of genes with reads >100 in control sample are used for this analysis</li>\n",
    "   <li>The expression data in treated samples log2 of the fold change against control samples  </li>\n",
    "    <li>The data is cleaned without Nah value to meet the requirement of PCA and KMeans cluster analysis.   </li>\n",
    "    \n",
    " </ol>\n",
    "\n",
    "</body>\n",
    "</html>"
   ]
  },
  {
   "cell_type": "code",
   "execution_count": 70,
   "id": "fdf7d30e-e0b0-4950-92eb-61380cfc7106",
   "metadata": {},
   "outputs": [],
   "source": [
    "import numpy as np\n",
    "import pandas as pd\n",
    "from matplotlib import pyplot as plt\n",
    "import seaborn as sns\n",
    "%matplotlib inline"
   ]
  },
  {
   "cell_type": "code",
   "execution_count": 23,
   "id": "4e8eb596-4db7-4faa-9ea3-510228cbb4ec",
   "metadata": {},
   "outputs": [],
   "source": [
    "geneally=pd.read_csv('geneally.csv')"
   ]
  },
  {
   "cell_type": "code",
   "execution_count": 24,
   "id": "3dad94dc-5be9-4b88-82ce-ebc37601b311",
   "metadata": {},
   "outputs": [
    {
     "data": {
      "text/html": [
       "<div>\n",
       "<style scoped>\n",
       "    .dataframe tbody tr th:only-of-type {\n",
       "        vertical-align: middle;\n",
       "    }\n",
       "\n",
       "    .dataframe tbody tr th {\n",
       "        vertical-align: top;\n",
       "    }\n",
       "\n",
       "    .dataframe thead th {\n",
       "        text-align: right;\n",
       "    }\n",
       "</style>\n",
       "<table border=\"1\" class=\"dataframe\">\n",
       "  <thead>\n",
       "    <tr style=\"text-align: right;\">\n",
       "      <th></th>\n",
       "      <th>Reference</th>\n",
       "      <th>Log2owc</th>\n",
       "      <th>Log2uwc</th>\n",
       "      <th>Log2urob</th>\n",
       "      <th>Log2otp</th>\n",
       "      <th>Log2ea</th>\n",
       "    </tr>\n",
       "  </thead>\n",
       "  <tbody>\n",
       "    <tr>\n",
       "      <th>0</th>\n",
       "      <td>ENST00000295834</td>\n",
       "      <td>-1.568256</td>\n",
       "      <td>-1.058108</td>\n",
       "      <td>-0.044703</td>\n",
       "      <td>-0.711059</td>\n",
       "      <td>-0.188234</td>\n",
       "    </tr>\n",
       "    <tr>\n",
       "      <th>1</th>\n",
       "      <td>ENST00000431156</td>\n",
       "      <td>-1.726043</td>\n",
       "      <td>-1.983816</td>\n",
       "      <td>-0.477140</td>\n",
       "      <td>-0.498142</td>\n",
       "      <td>-0.322432</td>\n",
       "    </tr>\n",
       "    <tr>\n",
       "      <th>2</th>\n",
       "      <td>ENST00000265641</td>\n",
       "      <td>-1.105326</td>\n",
       "      <td>-1.130164</td>\n",
       "      <td>-0.170014</td>\n",
       "      <td>-0.328494</td>\n",
       "      <td>-0.226501</td>\n",
       "    </tr>\n",
       "    <tr>\n",
       "      <th>3</th>\n",
       "      <td>ENST00000397990</td>\n",
       "      <td>-1.640631</td>\n",
       "      <td>-1.190132</td>\n",
       "      <td>-0.125344</td>\n",
       "      <td>-1.276938</td>\n",
       "      <td>-0.230667</td>\n",
       "    </tr>\n",
       "    <tr>\n",
       "      <th>4</th>\n",
       "      <td>ENST00000222002</td>\n",
       "      <td>-1.326830</td>\n",
       "      <td>-1.221089</td>\n",
       "      <td>-0.500883</td>\n",
       "      <td>-1.047075</td>\n",
       "      <td>-0.241118</td>\n",
       "    </tr>\n",
       "  </tbody>\n",
       "</table>\n",
       "</div>"
      ],
      "text/plain": [
       "         Reference   Log2owc   Log2uwc  Log2urob   Log2otp    Log2ea\n",
       "0  ENST00000295834 -1.568256 -1.058108 -0.044703 -0.711059 -0.188234\n",
       "1  ENST00000431156 -1.726043 -1.983816 -0.477140 -0.498142 -0.322432\n",
       "2  ENST00000265641 -1.105326 -1.130164 -0.170014 -0.328494 -0.226501\n",
       "3  ENST00000397990 -1.640631 -1.190132 -0.125344 -1.276938 -0.230667\n",
       "4  ENST00000222002 -1.326830 -1.221089 -0.500883 -1.047075 -0.241118"
      ]
     },
     "execution_count": 24,
     "metadata": {},
     "output_type": "execute_result"
    }
   ],
   "source": [
    "geneally.head()\n"
   ]
  },
  {
   "cell_type": "code",
   "execution_count": 25,
   "id": "92594ee0-3d8f-4032-a590-b236a66bcaac",
   "metadata": {},
   "outputs": [
    {
     "data": {
      "text/html": [
       "<div>\n",
       "<style scoped>\n",
       "    .dataframe tbody tr th:only-of-type {\n",
       "        vertical-align: middle;\n",
       "    }\n",
       "\n",
       "    .dataframe tbody tr th {\n",
       "        vertical-align: top;\n",
       "    }\n",
       "\n",
       "    .dataframe thead th {\n",
       "        text-align: right;\n",
       "    }\n",
       "</style>\n",
       "<table border=\"1\" class=\"dataframe\">\n",
       "  <thead>\n",
       "    <tr style=\"text-align: right;\">\n",
       "      <th></th>\n",
       "      <th>Log2owc</th>\n",
       "      <th>Log2uwc</th>\n",
       "      <th>Log2urob</th>\n",
       "      <th>Log2otp</th>\n",
       "      <th>Log2ea</th>\n",
       "    </tr>\n",
       "  </thead>\n",
       "  <tbody>\n",
       "    <tr>\n",
       "      <th>Log2owc</th>\n",
       "      <td>1.000000</td>\n",
       "      <td>0.884636</td>\n",
       "      <td>0.541270</td>\n",
       "      <td>0.799196</td>\n",
       "      <td>0.632070</td>\n",
       "    </tr>\n",
       "    <tr>\n",
       "      <th>Log2uwc</th>\n",
       "      <td>0.884636</td>\n",
       "      <td>1.000000</td>\n",
       "      <td>0.609464</td>\n",
       "      <td>0.745710</td>\n",
       "      <td>0.615380</td>\n",
       "    </tr>\n",
       "    <tr>\n",
       "      <th>Log2urob</th>\n",
       "      <td>0.541270</td>\n",
       "      <td>0.609464</td>\n",
       "      <td>1.000000</td>\n",
       "      <td>0.645586</td>\n",
       "      <td>0.625783</td>\n",
       "    </tr>\n",
       "    <tr>\n",
       "      <th>Log2otp</th>\n",
       "      <td>0.799196</td>\n",
       "      <td>0.745710</td>\n",
       "      <td>0.645586</td>\n",
       "      <td>1.000000</td>\n",
       "      <td>0.636046</td>\n",
       "    </tr>\n",
       "    <tr>\n",
       "      <th>Log2ea</th>\n",
       "      <td>0.632070</td>\n",
       "      <td>0.615380</td>\n",
       "      <td>0.625783</td>\n",
       "      <td>0.636046</td>\n",
       "      <td>1.000000</td>\n",
       "    </tr>\n",
       "  </tbody>\n",
       "</table>\n",
       "</div>"
      ],
      "text/plain": [
       "           Log2owc   Log2uwc  Log2urob   Log2otp    Log2ea\n",
       "Log2owc   1.000000  0.884636  0.541270  0.799196  0.632070\n",
       "Log2uwc   0.884636  1.000000  0.609464  0.745710  0.615380\n",
       "Log2urob  0.541270  0.609464  1.000000  0.645586  0.625783\n",
       "Log2otp   0.799196  0.745710  0.645586  1.000000  0.636046\n",
       "Log2ea    0.632070  0.615380  0.625783  0.636046  1.000000"
      ]
     },
     "execution_count": 25,
     "metadata": {},
     "output_type": "execute_result"
    }
   ],
   "source": [
    "geneally.corr()"
   ]
  },
  {
   "cell_type": "code",
   "execution_count": 26,
   "id": "f5d65fa2-dfac-44a5-98a0-a92e726bf2b4",
   "metadata": {},
   "outputs": [
    {
     "data": {
      "text/plain": [
       "<AxesSubplot:>"
      ]
     },
     "execution_count": 26,
     "metadata": {},
     "output_type": "execute_result"
    },
    {
     "data": {
      "image/png": "[encoded data removed]",
      "text/plain": [
       "<Figure size 432x288 with 2 Axes>"
      ]
     },
     "metadata": {
      "needs_background": "light"
     },
     "output_type": "display_data"
    }
   ],
   "source": [
    "sns.heatmap(geneally.corr())"
   ]
  },
  {
   "cell_type": "code",
   "execution_count": 27,
   "id": "332c32a4-9a78-4d36-86b7-c8c65241be6f",
   "metadata": {},
   "outputs": [
    {
     "data": {
      "text/plain": [
       "<matplotlib.collections.PathCollection at 0x1bb2cbfca30>"
      ]
     },
     "execution_count": 27,
     "metadata": {},
     "output_type": "execute_result"
    },
    {
     "data": {
      "image/png": "[encoded data removed]",
      "text/plain": [
       "<Figure size 432x288 with 1 Axes>"
      ]
     },
     "metadata": {
      "needs_background": "light"
     },
     "output_type": "display_data"
    }
   ],
   "source": [
    "plt.scatter(data=geneally, x='Log2owc', y='Log2uwc')"
   ]
  },
  {
   "cell_type": "code",
   "execution_count": 28,
   "id": "00befafa-6f59-4c2e-bcd1-939b63388bc0",
   "metadata": {},
   "outputs": [
    {
     "data": {
      "text/plain": [
       "<matplotlib.collections.PathCollection at 0x1bb2cbd67f0>"
      ]
     },
     "execution_count": 28,
     "metadata": {},
     "output_type": "execute_result"
    },
    {
     "data": {
      "image/png": "[encoded data removed]",
      "text/plain": [
       "<Figure size 432x288 with 1 Axes>"
      ]
     },
     "metadata": {
      "needs_background": "light"
     },
     "output_type": "display_data"
    }
   ],
   "source": [
    "plt.scatter(data=geneally, x='Log2urob', y='Log2ea')"
   ]
  },
  {
   "cell_type": "code",
   "execution_count": 29,
   "id": "2fdac8ee-190c-4a78-97b6-13ddc6492ba0",
   "metadata": {},
   "outputs": [
    {
     "data": {
      "text/plain": [
       "<matplotlib.collections.PathCollection at 0x1bb2ccd0a00>"
      ]
     },
     "execution_count": 29,
     "metadata": {},
     "output_type": "execute_result"
    },
    {
     "data": {
      "image/png": "[encoded data removed]",
      "text/plain": [
       "<Figure size 432x288 with 1 Axes>"
      ]
     },
     "metadata": {
      "needs_background": "light"
     },
     "output_type": "display_data"
    }
   ],
   "source": [
    "plt.scatter(data=geneally, x='Log2owc', y='Log2otp')"
   ]
  },
  {
   "cell_type": "code",
   "execution_count": 30,
   "id": "408811c1-1135-4135-b084-eaf23b54b9d0",
   "metadata": {},
   "outputs": [
    {
     "data": {
      "text/plain": [
       "<matplotlib.collections.PathCollection at 0x1bb2cd37460>"
      ]
     },
     "execution_count": 30,
     "metadata": {},
     "output_type": "execute_result"
    },
    {
     "data": {
      "image/png": "[encoded data removed]",
      "text/plain": [
       "<Figure size 432x288 with 1 Axes>"
      ]
     },
     "metadata": {
      "needs_background": "light"
     },
     "output_type": "display_data"
    }
   ],
   "source": [
    "plt.scatter(data=geneally, x='Log2uwc', y='Log2otp')"
   ]
  },
  {
   "cell_type": "code",
   "execution_count": 31,
   "id": "dfe7ae5e-8d04-4a60-8b81-52ca7608b5d9",
   "metadata": {},
   "outputs": [
    {
     "data": {
      "text/plain": [
       "(array([  1.,   0.,   0.,   0.,   0.,   1.,   0.,   1.,   1.,   0.,   0.,\n",
       "          0.,   0.,   2.,   4.,   4.,   3.,   9.,   7.,   9.,  15.,  29.,\n",
       "         39.,  69., 103., 108.,  85.,  74.,  58.,  51.,  24.,  22.,  10.,\n",
       "         15.,   8.,   6.,   7.,   6.,   6.,   4.,   3.,   2.,   1.,   0.,\n",
       "          0.,   0.,   0.,   0.,   0.,   1.]),\n",
       " array([-2.73881521, -2.63769353, -2.53657186, -2.43545018, -2.3343285 ,\n",
       "        -2.23320682, -2.13208514, -2.03096347, -1.92984179, -1.82872011,\n",
       "        -1.72759843, -1.62647675, -1.52535508, -1.4242334 , -1.32311172,\n",
       "        -1.22199004, -1.12086836, -1.01974669, -0.91862501, -0.81750333,\n",
       "        -0.71638165, -0.61525997, -0.5141383 , -0.41301662, -0.31189494,\n",
       "        -0.21077326, -0.10965158, -0.00852991,  0.09259177,  0.19371345,\n",
       "         0.29483513,  0.39595681,  0.49707848,  0.59820016,  0.69932184,\n",
       "         0.80044352,  0.9015652 ,  1.00268687,  1.10380855,  1.20493023,\n",
       "         1.30605191,  1.40717359,  1.50829526,  1.60941694,  1.71053862,\n",
       "         1.8116603 ,  1.91278198,  2.01390365,  2.11502533,  2.21614701,\n",
       "         2.31726869]),\n",
       " <BarContainer object of 50 artists>)"
      ]
     },
     "execution_count": 31,
     "metadata": {},
     "output_type": "execute_result"
    },
    {
     "data": {
      "image/png": "[encoded data removed]",
      "text/plain": [
       "<Figure size 432x288 with 1 Axes>"
      ]
     },
     "metadata": {
      "needs_background": "light"
     },
     "output_type": "display_data"
    }
   ],
   "source": [
    "plt.hist(geneally['Log2uwc'], bins=50)"
   ]
  },
  {
   "cell_type": "markdown",
   "id": "0dca25fd-52bf-40dc-b5a4-efa4d50fea89",
   "metadata": {},
   "source": [
    "# PCA Aanalysis\n",
    "The gene expression data are from five treatment. The data is five dimension. To find out gene ally. We need to perform cluster analysis that takes 2D data. So the first step is to perform PCA analysis to transforms the original features into a 2-D space while preserving the variance of the data. "
   ]
  },
  {
   "cell_type": "code",
   "execution_count": 32,
   "id": "441b9347-c208-4f8a-8fcf-0e73ffe589a0",
   "metadata": {},
   "outputs": [
    {
     "data": {
      "text/plain": [
       "False"
      ]
     },
     "execution_count": 32,
     "metadata": {},
     "output_type": "execute_result"
    }
   ],
   "source": [
    "geneally.isnull().any().any()"
   ]
  },
  {
   "cell_type": "code",
   "execution_count": 35,
   "id": "9a3e2f32-d9c6-410e-8eab-00ed4e59206d",
   "metadata": {},
   "outputs": [],
   "source": [
    "import sklearn\n",
    "from sklearn.cluster import KMeans\n",
    "from sklearn.preprocessing import scale\n",
    "from sklearn.preprocessing import StandardScaler\n",
    "from sklearn.decomposition import PCA\n",
    "import pylab as pl\n",
    "from itertools import cycle"
   ]
  },
  {
   "cell_type": "code",
   "execution_count": 36,
   "id": "43fc649c-eabd-43a3-b44b-cf258e5de1a2",
   "metadata": {},
   "outputs": [],
   "source": [
    "scaler=StandardScaler()"
   ]
  },
  {
   "cell_type": "code",
   "execution_count": 42,
   "id": "ef41db16-2c79-44a1-8dbb-c517b83b67ca",
   "metadata": {},
   "outputs": [],
   "source": [
    "ally_value=geneally[['Log2owc','Log2uwc','Log2urob','Log2otp','Log2ea']]"
   ]
  },
  {
   "cell_type": "code",
   "execution_count": 46,
   "id": "4bda7628-1bbb-4397-ba03-69e0e5fac24b",
   "metadata": {},
   "outputs": [
    {
     "data": {
      "text/html": [
       "<div>\n",
       "<style scoped>\n",
       "    .dataframe tbody tr th:only-of-type {\n",
       "        vertical-align: middle;\n",
       "    }\n",
       "\n",
       "    .dataframe tbody tr th {\n",
       "        vertical-align: top;\n",
       "    }\n",
       "\n",
       "    .dataframe thead th {\n",
       "        text-align: right;\n",
       "    }\n",
       "</style>\n",
       "<table border=\"1\" class=\"dataframe\">\n",
       "  <thead>\n",
       "    <tr style=\"text-align: right;\">\n",
       "      <th></th>\n",
       "      <th>Log2owc</th>\n",
       "      <th>Log2uwc</th>\n",
       "      <th>Log2urob</th>\n",
       "      <th>Log2otp</th>\n",
       "      <th>Log2ea</th>\n",
       "    </tr>\n",
       "  </thead>\n",
       "  <tbody>\n",
       "    <tr>\n",
       "      <th>0</th>\n",
       "      <td>-1.568256</td>\n",
       "      <td>-1.058108</td>\n",
       "      <td>-0.044703</td>\n",
       "      <td>-0.711059</td>\n",
       "      <td>-0.188234</td>\n",
       "    </tr>\n",
       "    <tr>\n",
       "      <th>1</th>\n",
       "      <td>-1.726043</td>\n",
       "      <td>-1.983816</td>\n",
       "      <td>-0.477140</td>\n",
       "      <td>-0.498142</td>\n",
       "      <td>-0.322432</td>\n",
       "    </tr>\n",
       "    <tr>\n",
       "      <th>2</th>\n",
       "      <td>-1.105326</td>\n",
       "      <td>-1.130164</td>\n",
       "      <td>-0.170014</td>\n",
       "      <td>-0.328494</td>\n",
       "      <td>-0.226501</td>\n",
       "    </tr>\n",
       "    <tr>\n",
       "      <th>3</th>\n",
       "      <td>-1.640631</td>\n",
       "      <td>-1.190132</td>\n",
       "      <td>-0.125344</td>\n",
       "      <td>-1.276938</td>\n",
       "      <td>-0.230667</td>\n",
       "    </tr>\n",
       "    <tr>\n",
       "      <th>4</th>\n",
       "      <td>-1.326830</td>\n",
       "      <td>-1.221089</td>\n",
       "      <td>-0.500883</td>\n",
       "      <td>-1.047075</td>\n",
       "      <td>-0.241118</td>\n",
       "    </tr>\n",
       "  </tbody>\n",
       "</table>\n",
       "</div>"
      ],
      "text/plain": [
       "    Log2owc   Log2uwc  Log2urob   Log2otp    Log2ea\n",
       "0 -1.568256 -1.058108 -0.044703 -0.711059 -0.188234\n",
       "1 -1.726043 -1.983816 -0.477140 -0.498142 -0.322432\n",
       "2 -1.105326 -1.130164 -0.170014 -0.328494 -0.226501\n",
       "3 -1.640631 -1.190132 -0.125344 -1.276938 -0.230667\n",
       "4 -1.326830 -1.221089 -0.500883 -1.047075 -0.241118"
      ]
     },
     "execution_count": 46,
     "metadata": {},
     "output_type": "execute_result"
    }
   ],
   "source": [
    "ally_value.head()"
   ]
  },
  {
   "cell_type": "code",
   "execution_count": 43,
   "id": "5e9a0bac-c448-4339-9b0c-19eac46fd5fc",
   "metadata": {},
   "outputs": [],
   "source": [
    "scaler_geneally=scaler.fit_transform(ally_value)"
   ]
  },
  {
   "cell_type": "code",
   "execution_count": 47,
   "id": "79a7504f-fb10-4236-bb37-82e647ec43f1",
   "metadata": {},
   "outputs": [],
   "source": [
    "ally_normalized=pd.DataFrame(scaler_geneally, columns=ally_value.columns)"
   ]
  },
  {
   "cell_type": "code",
   "execution_count": 48,
   "id": "dd08ed02-9ab7-4ff2-a2e3-6e8293682eee",
   "metadata": {},
   "outputs": [
    {
     "data": {
      "text/html": [
       "<div>\n",
       "<style scoped>\n",
       "    .dataframe tbody tr th:only-of-type {\n",
       "        vertical-align: middle;\n",
       "    }\n",
       "\n",
       "    .dataframe tbody tr th {\n",
       "        vertical-align: top;\n",
       "    }\n",
       "\n",
       "    .dataframe thead th {\n",
       "        text-align: right;\n",
       "    }\n",
       "</style>\n",
       "<table border=\"1\" class=\"dataframe\">\n",
       "  <thead>\n",
       "    <tr style=\"text-align: right;\">\n",
       "      <th></th>\n",
       "      <th>Log2owc</th>\n",
       "      <th>Log2uwc</th>\n",
       "      <th>Log2urob</th>\n",
       "      <th>Log2otp</th>\n",
       "      <th>Log2ea</th>\n",
       "    </tr>\n",
       "  </thead>\n",
       "  <tbody>\n",
       "    <tr>\n",
       "      <th>0</th>\n",
       "      <td>-2.893740</td>\n",
       "      <td>-2.106101</td>\n",
       "      <td>-0.121913</td>\n",
       "      <td>-1.730789</td>\n",
       "      <td>-0.535594</td>\n",
       "    </tr>\n",
       "    <tr>\n",
       "      <th>1</th>\n",
       "      <td>-3.203541</td>\n",
       "      <td>-4.094534</td>\n",
       "      <td>-1.645463</td>\n",
       "      <td>-1.195934</td>\n",
       "      <td>-0.957632</td>\n",
       "    </tr>\n",
       "    <tr>\n",
       "      <th>2</th>\n",
       "      <td>-1.984813</td>\n",
       "      <td>-2.260879</td>\n",
       "      <td>-0.563404</td>\n",
       "      <td>-0.769772</td>\n",
       "      <td>-0.655940</td>\n",
       "    </tr>\n",
       "    <tr>\n",
       "      <th>3</th>\n",
       "      <td>-3.035843</td>\n",
       "      <td>-2.389691</td>\n",
       "      <td>-0.406024</td>\n",
       "      <td>-3.152298</td>\n",
       "      <td>-0.669041</td>\n",
       "    </tr>\n",
       "    <tr>\n",
       "      <th>4</th>\n",
       "      <td>-2.419719</td>\n",
       "      <td>-2.456187</td>\n",
       "      <td>-1.729113</td>\n",
       "      <td>-2.574874</td>\n",
       "      <td>-0.701910</td>\n",
       "    </tr>\n",
       "  </tbody>\n",
       "</table>\n",
       "</div>"
      ],
      "text/plain": [
       "    Log2owc   Log2uwc  Log2urob   Log2otp    Log2ea\n",
       "0 -2.893740 -2.106101 -0.121913 -1.730789 -0.535594\n",
       "1 -3.203541 -4.094534 -1.645463 -1.195934 -0.957632\n",
       "2 -1.984813 -2.260879 -0.563404 -0.769772 -0.655940\n",
       "3 -3.035843 -2.389691 -0.406024 -3.152298 -0.669041\n",
       "4 -2.419719 -2.456187 -1.729113 -2.574874 -0.701910"
      ]
     },
     "execution_count": 48,
     "metadata": {},
     "output_type": "execute_result"
    }
   ],
   "source": [
    "ally_normalized.head()"
   ]
  },
  {
   "cell_type": "code",
   "execution_count": 49,
   "id": "39bd4236-5f41-4ba3-a163-f4a9b5780827",
   "metadata": {},
   "outputs": [
    {
     "data": {
      "text/plain": [
       "(array([[  1.,   0.,   0.,   0.,   0.,   0.,   0.,   0.,   0.,   0.,   0.,\n",
       "           0.,   0.,   0.,   0.,   1.,   0.,   0.,   5.,   2.,   1.,   4.,\n",
       "           5.,  10.,  12.,  21.,  36.,  52.,  97., 131., 112.,  81.,  68.,\n",
       "          44.,  29.,  17.,  18.,  12.,  10.,   8.,   3.,   3.,   4.,   1.,\n",
       "           0.,   0.,   0.,   0.,   0.,   0.],\n",
       "        [  0.,   0.,   0.,   0.,   0.,   0.,   0.,   0.,   1.,   0.,   0.,\n",
       "           0.,   0.,   1.,   1.,   1.,   0.,   0.,   0.,   0.,   6.,   5.,\n",
       "           4.,  11.,   7.,  20.,  35.,  53., 112., 132., 102.,  89.,  70.,\n",
       "          45.,  22.,  12.,  16.,   9.,  10.,   6.,   7.,   4.,   3.,   3.,\n",
       "           0.,   0.,   0.,   0.,   0.,   1.],\n",
       "        [  0.,   0.,   0.,   0.,   0.,   0.,   0.,   0.,   0.,   0.,   0.,\n",
       "           1.,   0.,   0.,   0.,   2.,   1.,   0.,   1.,   2.,   2.,   4.,\n",
       "           7.,   8.,  14.,  29.,  29.,  60.,  95., 109., 123.,  85.,  74.,\n",
       "          43.,  27.,  23.,  13.,  10.,   8.,   5.,   3.,   3.,   2.,   0.,\n",
       "           3.,   0.,   0.,   0.,   1.,   1.],\n",
       "        [  0.,   0.,   0.,   0.,   0.,   0.,   0.,   0.,   0.,   1.,   0.,\n",
       "           0.,   0.,   0.,   0.,   0.,   1.,   1.,   5.,   0.,   2.,   8.,\n",
       "           6.,  16.,  14.,  23.,  28.,  54.,  80.,  95., 127., 111.,  71.,\n",
       "          41.,  37.,  18.,  15.,   8.,   9.,   4.,   5.,   2.,   1.,   3.,\n",
       "           1.,   0.,   1.,   0.,   0.,   0.],\n",
       "        [  1.,   0.,   0.,   0.,   0.,   0.,   0.,   0.,   0.,   0.,   0.,\n",
       "           1.,   1.,   0.,   2.,   1.,   0.,   0.,   3.,   1.,   3.,   3.,\n",
       "           1.,   6.,   6.,  21.,  52.,  51.,  78., 128., 110.,  98.,  72.,\n",
       "          56.,  32.,  22.,  14.,  10.,   0.,   4.,   3.,   2.,   1.,   1.,\n",
       "           1.,   1.,   1.,   1.,   0.,   0.]]),\n",
       " array([-8.00162239, -7.73853937, -7.47545636, -7.21237335, -6.94929033,\n",
       "        -6.68620732, -6.42312431, -6.16004129, -5.89695828, -5.63387527,\n",
       "        -5.37079226, -5.10770924, -4.84462623, -4.58154322, -4.3184602 ,\n",
       "        -4.05537719, -3.79229418, -3.52921117, -3.26612815, -3.00304514,\n",
       "        -2.73996213, -2.47687911, -2.2137961 , -1.95071309, -1.68763008,\n",
       "        -1.42454706, -1.16146405, -0.89838104, -0.63529802, -0.37221501,\n",
       "        -0.109132  ,  0.15395101,  0.41703403,  0.68011704,  0.94320005,\n",
       "         1.20628307,  1.46936608,  1.73244909,  1.9955321 ,  2.25861512,\n",
       "         2.52169813,  2.78478114,  3.04786416,  3.31094717,  3.57403018,\n",
       "         3.8371132 ,  4.10019621,  4.36327922,  4.62636223,  4.88944525,\n",
       "         5.15252826]),\n",
       " <a list of 5 BarContainer objects>)"
      ]
     },
     "execution_count": 49,
     "metadata": {},
     "output_type": "execute_result"
    },
    {
     "data": {
      "image/png": "[encoded data removed]",
      "text/plain": [
       "<Figure size 432x288 with 1 Axes>"
      ]
     },
     "metadata": {
      "needs_background": "light"
     },
     "output_type": "display_data"
    }
   ],
   "source": [
    "plt.hist(ally_normalized, bins=50)"
   ]
  },
  {
   "cell_type": "code",
   "execution_count": 56,
   "id": "3ccefcb2-b16e-4d2c-83c9-da5e097cd547",
   "metadata": {},
   "outputs": [],
   "source": [
    "pca=PCA(n_components=2, whiten =True)"
   ]
  },
  {
   "cell_type": "code",
   "execution_count": 57,
   "id": "cb06f3f7-ee01-461f-9db6-4497af69af70",
   "metadata": {},
   "outputs": [],
   "source": [
    "ally_pca=pca.fit_transform(ally_normalized)"
   ]
  },
  {
   "cell_type": "code",
   "execution_count": 60,
   "id": "9576932d-21ad-4b54-b212-35a29988b4c1",
   "metadata": {},
   "outputs": [
    {
     "data": {
      "text/plain": [
       "array([[ 1.77972071, -2.7161184 ],\n",
       "       [ 2.62549986, -2.19700784],\n",
       "       [ 1.48348528, -1.59813761],\n",
       "       ...,\n",
       "       [-0.27945496,  0.86526521],\n",
       "       [-1.29624552,  1.45562543],\n",
       "       [-0.280994  ,  1.53142476]])"
      ]
     },
     "execution_count": 60,
     "metadata": {},
     "output_type": "execute_result"
    }
   ],
   "source": [
    "ally_pca"
   ]
  },
  {
   "cell_type": "code",
   "execution_count": 58,
   "id": "5d82154e-f768-441d-b65e-48070f7a5744",
   "metadata": {},
   "outputs": [
    {
     "data": {
      "text/plain": [
       "array([0.74108017, 0.11268744])"
      ]
     },
     "execution_count": 58,
     "metadata": {},
     "output_type": "execute_result"
    }
   ],
   "source": [
    "pca.explained_variance_ratio_"
   ]
  },
  {
   "cell_type": "code",
   "execution_count": 59,
   "id": "ac39937c-09f1-4ca0-8da1-2e6f7585dff4",
   "metadata": {},
   "outputs": [
    {
     "data": {
      "text/plain": [
       "0.8537676102691711"
      ]
     },
     "execution_count": 59,
     "metadata": {},
     "output_type": "execute_result"
    }
   ],
   "source": [
    "sum(pca.explained_variance_ratio_)"
   ]
  },
  {
   "cell_type": "code",
   "execution_count": 61,
   "id": "26e22e25-469e-407d-ae21-b9a0b2c5e430",
   "metadata": {},
   "outputs": [],
   "source": [
    "gene_pca=pd.DataFrame(ally_pca, columns=['pca1', 'pca2'])"
   ]
  },
  {
   "cell_type": "code",
   "execution_count": 63,
   "id": "b2ed1ffd-719f-4e68-832f-23ca3cd8483b",
   "metadata": {},
   "outputs": [
    {
     "data": {
      "text/plain": [
       "<matplotlib.collections.PathCollection at 0x1bb2eb146d0>"
      ]
     },
     "execution_count": 63,
     "metadata": {},
     "output_type": "execute_result"
    },
    {
     "data": {
      "image/png": "[encoded data removed]",
      "text/plain": [
       "<Figure size 432x288 with 1 Axes>"
      ]
     },
     "metadata": {
      "needs_background": "light"
     },
     "output_type": "display_data"
    }
   ],
   "source": [
    "plt.scatter(data=gene_pca, x='pca1', y='pca2')"
   ]
  },
  {
   "cell_type": "markdown",
   "id": "1617b276-0261-45e2-8b1f-732f8ab196cd",
   "metadata": {},
   "source": [
    "# KMeans cluster analysis"
   ]
  },
  {
   "cell_type": "code",
   "execution_count": 72,
   "id": "b18d6212-ad65-461f-8a86-62ebc897ad51",
   "metadata": {},
   "outputs": [],
   "source": [
    "from sklearn.cluster import KMeans\n",
    "from sklearn.preprocessing import scale\n",
    "import pylab as pl\n",
    "from itertools import cycle"
   ]
  },
  {
   "cell_type": "code",
   "execution_count": 73,
   "id": "2e43d597-6f22-4471-90ac-36c0ac35578e",
   "metadata": {},
   "outputs": [
    {
     "name": "stderr",
     "output_type": "stream",
     "text": [
      "C:\\Users\\ywang120\\Anaconda3\\lib\\site-packages\\sklearn\\cluster\\_kmeans.py:870: FutureWarning: The default value of `n_init` will change from 10 to 'auto' in 1.4. Set the value of `n_init` explicitly to suppress the warning\n",
      "  warnings.warn(\n",
      "C:\\Users\\ywang120\\Anaconda3\\lib\\site-packages\\sklearn\\cluster\\_kmeans.py:1382: UserWarning: KMeans is known to have a memory leak on Windows with MKL, when there are less chunks than available threads. You can avoid it by setting the environment variable OMP_NUM_THREADS=4.\n",
      "  warnings.warn(\n"
     ]
    }
   ],
   "source": [
    "model=KMeans(n_clusters=10)\n",
    "model=model.fit(scale(gene_pca))"
   ]
  },
  {
   "cell_type": "code",
   "execution_count": 80,
   "id": "d27be663-9671-48a8-97f3-716168a0c617",
   "metadata": {},
   "outputs": [
    {
     "data": {
      "image/png": "[encoded data removed]",
      "text/plain": [
       "<Figure size 576x432 with 1 Axes>"
      ]
     },
     "metadata": {
      "needs_background": "light"
     },
     "output_type": "display_data"
    }
   ],
   "source": [
    "plt.figure(figsize=(8,6))\n",
    "plt.scatter(data=gene_pca, x='pca1', y='pca2', c=model.labels_.astype(float))\n",
    "plt.show()"
   ]
  },
  {
   "cell_type": "code",
   "execution_count": 81,
   "id": "acb9de5d-e1ec-4ed2-8b94-ad22b6f7f6b2",
   "metadata": {},
   "outputs": [],
   "source": [
    "geneally['class']=model.labels_"
   ]
  },
  {
   "cell_type": "code",
   "execution_count": 82,
   "id": "d0a237ad-4920-4461-b644-787d1569e3ea",
   "metadata": {},
   "outputs": [
    {
     "data": {
      "text/html": [
       "<div>\n",
       "<style scoped>\n",
       "    .dataframe tbody tr th:only-of-type {\n",
       "        vertical-align: middle;\n",
       "    }\n",
       "\n",
       "    .dataframe tbody tr th {\n",
       "        vertical-align: top;\n",
       "    }\n",
       "\n",
       "    .dataframe thead th {\n",
       "        text-align: right;\n",
       "    }\n",
       "</style>\n",
       "<table border=\"1\" class=\"dataframe\">\n",
       "  <thead>\n",
       "    <tr style=\"text-align: right;\">\n",
       "      <th></th>\n",
       "      <th>Reference</th>\n",
       "      <th>Log2owc</th>\n",
       "      <th>Log2uwc</th>\n",
       "      <th>Log2urob</th>\n",
       "      <th>Log2otp</th>\n",
       "      <th>Log2ea</th>\n",
       "      <th>class</th>\n",
       "    </tr>\n",
       "  </thead>\n",
       "  <tbody>\n",
       "    <tr>\n",
       "      <th>0</th>\n",
       "      <td>ENST00000295834</td>\n",
       "      <td>-1.568256</td>\n",
       "      <td>-1.058108</td>\n",
       "      <td>-0.044703</td>\n",
       "      <td>-0.711059</td>\n",
       "      <td>-0.188234</td>\n",
       "      <td>3</td>\n",
       "    </tr>\n",
       "    <tr>\n",
       "      <th>1</th>\n",
       "      <td>ENST00000431156</td>\n",
       "      <td>-1.726043</td>\n",
       "      <td>-1.983816</td>\n",
       "      <td>-0.477140</td>\n",
       "      <td>-0.498142</td>\n",
       "      <td>-0.322432</td>\n",
       "      <td>8</td>\n",
       "    </tr>\n",
       "    <tr>\n",
       "      <th>2</th>\n",
       "      <td>ENST00000265641</td>\n",
       "      <td>-1.105326</td>\n",
       "      <td>-1.130164</td>\n",
       "      <td>-0.170014</td>\n",
       "      <td>-0.328494</td>\n",
       "      <td>-0.226501</td>\n",
       "      <td>3</td>\n",
       "    </tr>\n",
       "    <tr>\n",
       "      <th>3</th>\n",
       "      <td>ENST00000397990</td>\n",
       "      <td>-1.640631</td>\n",
       "      <td>-1.190132</td>\n",
       "      <td>-0.125344</td>\n",
       "      <td>-1.276938</td>\n",
       "      <td>-0.230667</td>\n",
       "      <td>8</td>\n",
       "    </tr>\n",
       "    <tr>\n",
       "      <th>4</th>\n",
       "      <td>ENST00000222002</td>\n",
       "      <td>-1.326830</td>\n",
       "      <td>-1.221089</td>\n",
       "      <td>-0.500883</td>\n",
       "      <td>-1.047075</td>\n",
       "      <td>-0.241118</td>\n",
       "      <td>8</td>\n",
       "    </tr>\n",
       "  </tbody>\n",
       "</table>\n",
       "</div>"
      ],
      "text/plain": [
       "         Reference   Log2owc   Log2uwc  Log2urob   Log2otp    Log2ea  class\n",
       "0  ENST00000295834 -1.568256 -1.058108 -0.044703 -0.711059 -0.188234      3\n",
       "1  ENST00000431156 -1.726043 -1.983816 -0.477140 -0.498142 -0.322432      8\n",
       "2  ENST00000265641 -1.105326 -1.130164 -0.170014 -0.328494 -0.226501      3\n",
       "3  ENST00000397990 -1.640631 -1.190132 -0.125344 -1.276938 -0.230667      8\n",
       "4  ENST00000222002 -1.326830 -1.221089 -0.500883 -1.047075 -0.241118      8"
      ]
     },
     "execution_count": 82,
     "metadata": {},
     "output_type": "execute_result"
    }
   ],
   "source": [
    "geneally.head()"
   ]
  },
  {
   "cell_type": "code",
   "execution_count": null,
   "id": "f5f2181f-94b5-4674-8c83-817a4380ec7e",
   "metadata": {},
   "outputs": [],
   "source": []
  }
 ],
 "metadata": {
  "kernelspec": {
   "display_name": "Python 3 (ipykernel)",
   "language": "python",
   "name": "python3"
  },
  "language_info": {
   "codemirror_mode": {
    "name": "ipython",
    "version": 3
   },
   "file_extension": ".py",
   "mimetype": "text/x-python",
   "name": "python",
   "nbconvert_exporter": "python",
   "pygments_lexer": "ipython3",
   "version": "3.9.7"
  }
 },
 "nbformat": 4,
 "nbformat_minor": 5
}
